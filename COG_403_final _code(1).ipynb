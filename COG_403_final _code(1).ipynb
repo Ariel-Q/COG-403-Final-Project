{
 "cells": [
  {
   "cell_type": "markdown",
   "metadata": {
    "id": "H1kRdfM6ol0R"
   },
   "source": [
    "#  Naïve Bayes"
   ]
  },
  {
   "cell_type": "code",
   "execution_count": 1,
   "metadata": {
    "id": "k587bbiSvhB4"
   },
   "outputs": [],
   "source": [
    "import numpy as np\n",
    "import matplotlib.pyplot as plt\n",
    "import matplotlib.image\n",
    "import pandas as pd\n",
    "from sklearn.metrics import classification_report, confusion_matrix, accuracy_score, f1_score"
   ]
  },
  {
   "cell_type": "code",
   "execution_count": 2,
   "metadata": {},
   "outputs": [],
   "source": [
    "df_train = pd.read_csv('fashion-mnist_train.csv').values\n",
    "df_test = pd.read_csv('fashion-mnist_test.csv').values\n",
    "selector = [x for x in range(df_train.shape[1]) if x != 0]\n",
    "train_images = df_train[:,selector]\n",
    "train_labels = df_train[:,0]\n",
    "test_images = df_test[:,selector]\n",
    "test_labels = df_test[:,0]\n",
    "N_data = train_images.shape[0]"
   ]
  },
  {
   "cell_type": "code",
   "execution_count": 39,
   "metadata": {},
   "outputs": [],
   "source": [
    "train_labels_array = np.zeros([60000,10], int)\n",
    "for i in range(len(train_labels)):\n",
    "    train_labels_array[i,train_labels[i]] = 1\n",
    "\n",
    "test_labels_array = np.zeros([10000,10], int)\n",
    "for i in range(len(test_labels)):\n",
    "    test_labels_array[i,test_labels[i]] = 1"
   ]
  },
  {
   "cell_type": "code",
   "execution_count": 40,
   "metadata": {},
   "outputs": [],
   "source": [
    "train_labels = train_labels_array\n",
    "test_labels = test_labels_array"
   ]
  },
  {
   "cell_type": "code",
   "execution_count": 41,
   "metadata": {},
   "outputs": [],
   "source": [
    "train_images= np.where(train_images<127.5, 0.0, train_images)\n",
    "train_images = np.where(train_images>127.5, 1.0, train_images)\n",
    "test_images = np.where(test_images<127.5, 0.0, test_images)\n",
    "test_images = np.where(test_images>127.5, 1.0, test_images)"
   ]
  },
  {
   "cell_type": "code",
   "execution_count": 42,
   "metadata": {
    "id": "v49Abi0uxeII"
   },
   "outputs": [],
   "source": [
    "def train_map_estimator(train_images, train_labels):\n",
    "    \"\"\" Inputs: train_images (N_samples x N_features), train_labels (N_samples x N_classes)\n",
    "        Returns the MAP estimator theta_est (N_features x N_classes) and the MLE\n",
    "        estimator pi_est (N_classes)\"\"\"\n",
    "    pi_est = np.mean(train_labels, 0)\n",
    "    theta_est = (1 + np.matmul(train_images.T, train_labels)) / (2 + np.sum(train_labels, 0))\n",
    "    return theta_est, pi_est"
   ]
  },
  {
   "cell_type": "code",
   "execution_count": 43,
   "metadata": {
    "colab": {
     "base_uri": "https://localhost:8080/"
    },
    "id": "6RZwBnVh0Zoo",
    "outputId": "f98be535-6805-4942-c61a-8068812ddae1"
   },
   "outputs": [
    {
     "name": "stdout",
     "output_type": "stream",
     "text": [
      "\n",
      " Accuracy score\n",
      " 0.6576\n",
      "\n",
      " F1 score\n",
      " 0.6483885043254971\n",
      "\n",
      " Confusion Matrix\n",
      " [[611  10  24 100  25 166  39   1  24   0]\n",
      " [ 25 896   9  33  10  15  12   0   0   0]\n",
      " [  9   1 320   7 359 176 108   0  20   0]\n",
      " [ 36  23   5 770  49  95  21   0   1   0]\n",
      " [  0   5  45  77 720  82  65   0   6   0]\n",
      " [  0   0   0   0   0 735  10 191   8  56]\n",
      " [167   5  66  58 267 277 135   0  24   1]\n",
      " [  0   0   0   0   0 147   0 780   0  73]\n",
      " [  2   1   7  37  10 113  44  13 772   1]\n",
      " [  0   0   4   0   1  74  11  71   2 837]]\n",
      "\n",
      " Classification Report\n",
      "               precision    recall  f1-score   support\n",
      "\n",
      "           0       0.72      0.61      0.66      1000\n",
      "           1       0.95      0.90      0.92      1000\n",
      "           2       0.67      0.32      0.43      1000\n",
      "           3       0.71      0.77      0.74      1000\n",
      "           4       0.50      0.72      0.59      1000\n",
      "           5       0.39      0.73      0.51      1000\n",
      "           6       0.30      0.14      0.19      1000\n",
      "           7       0.74      0.78      0.76      1000\n",
      "           8       0.90      0.77      0.83      1000\n",
      "           9       0.86      0.84      0.85      1000\n",
      "\n",
      "    accuracy                           0.66     10000\n",
      "   macro avg       0.67      0.66      0.65     10000\n",
      "weighted avg       0.67      0.66      0.65     10000\n",
      "\n"
     ]
    }
   ],
   "source": [
    "from numpy.core.fromnumeric import argmax\n",
    "\n",
    "from numpy.ma.core import log\n",
    "def log_likelihood(images, theta, pi):\n",
    "    \"\"\" \n",
    "    Inputs: images (N_samples x N_features), theta, pi\n",
    "    Returns the matrix 'log_like' of loglikehoods over the input images \n",
    "    \"\"\"\n",
    "\n",
    "    p_c_given_pi = pi\n",
    "    log_p_c_given_pi = np.log(pi)\n",
    "    log_p_x_given_c_theta = np.matmul(images,np.log(theta))+(np.matmul(1-images,np.log(1-theta)))\n",
    "    log_p_c_x_given_theta_pi = log_p_c_given_pi + log_p_x_given_c_theta\n",
    "\n",
    "    p_x_given_c_theta = np.exp(log_p_x_given_c_theta)\n",
    "    p_x_given_theta_pi = np.matmul(p_x_given_c_theta, p_c_given_pi)\n",
    "    p_x_given_theta_pi = np.where(p_x_given_theta_pi==0, 2.2250738585072014e-308,p_x_given_theta_pi)\n",
    "    log_p_x_given_theta_pi = np.log(p_x_given_theta_pi).reshape(-1, 1)\n",
    "    \n",
    "\n",
    "    log_like = log_p_c_given_pi + log_p_x_given_c_theta - log_p_x_given_theta_pi\n",
    "    return log_like\n",
    "\n",
    "\n",
    "\n",
    "theta_est, pi_est = train_map_estimator(train_images, train_labels)\n",
    "loglike_test = log_likelihood(test_images, theta_est, pi_est)\n",
    "from sklearn.metrics import classification_report, confusion_matrix, accuracy_score, f1_score\n",
    "test_labels_pred = np.array(np.argmax(loglike_test, 1))\n",
    "test_label_1d = np.array(np.argmax(test_labels, 1))\n",
    "\n",
    "\n",
    "confusion_matrix = confusion_matrix(test_label_1d, test_labels_pred)\n",
    "\n",
    "print(\"\\n Accuracy score\\n\", accuracy_score(test_label_1d, test_labels_pred))\n",
    "print(\"\\n F1 score\\n\", f1_score(test_label_1d, test_labels_pred,  average = 'macro'))\n",
    "print(\"\\n Confusion Matrix\\n\", confusion_matrix)\n",
    "print(\"\\n Classification Report\\n\", classification_report(test_label_1d, test_labels_pred))"
   ]
  },
  {
   "cell_type": "code",
   "execution_count": 44,
   "metadata": {
    "colab": {
     "base_uri": "https://localhost:8080/",
     "height": 443
    },
    "id": "amV0qFMC3myy",
    "outputId": "0484f14c-6430-4b89-efb8-ad0a9289bb36"
   },
   "outputs": [
    {
     "data": {
      "image/png": "[encoded data removed]",
      "text/plain": [
       "<Figure size 640x480 with 1 Axes>"
      ]
     },
     "metadata": {},
     "output_type": "display_data"
    }
   ],
   "source": [
    "def image_sampler(theta, pi, num_images):\n",
    "    \"\"\" Inputs: parameters theta and pi, and number of images to sample\n",
    "    Returns the sampled images (N_images x N_features)\"\"\"\n",
    "    N_classes = pi.shape[0]\n",
    "    N_features = theta.shape[0]\n",
    "    sampled_images = np.zeros((num_images, N_features))\n",
    "    \n",
    "    for i in range(num_images):\n",
    "        c = np.random.choice(N_classes, size=1, p=pi)[0]\n",
    "        sampled_images[i, :] = np.random.binomial(1, theta[:, c], size=N_features)\n",
    "        \n",
    "    return sampled_images\n",
    "\n",
    "\n",
    "def plot_images(images, ims_per_row=5, padding=5, image_dimensions=(28, 28),\n",
    "                cmap=matplotlib.cm.binary, vmin=0., vmax=1.):\n",
    "    \"\"\"Images should be a (N_images x pixels) matrix.\"\"\"\n",
    "    fig = plt.figure(1)\n",
    "    fig.clf()\n",
    "    ax = fig.add_subplot(111)\n",
    "\n",
    "    N_images = images.shape[0]\n",
    "    N_rows = np.int32(np.ceil(float(N_images) / ims_per_row))\n",
    "    pad_value = vmin\n",
    "    concat_images = np.full(((image_dimensions[0] + padding) * N_rows + padding,\n",
    "                             (image_dimensions[1] + padding) * ims_per_row + padding), pad_value)\n",
    "    for i in range(N_images):\n",
    "        cur_image = np.reshape(images[i, :], image_dimensions)\n",
    "        row_ix = i // ims_per_row\n",
    "        col_ix = i % ims_per_row\n",
    "        row_start = padding + (padding + image_dimensions[0]) * row_ix\n",
    "        col_start = padding + (padding + image_dimensions[1]) * col_ix\n",
    "        concat_images[row_start: row_start + image_dimensions[0],\n",
    "                      col_start: col_start + image_dimensions[1]] = cur_image\n",
    "        cax = ax.matshow(concat_images, cmap=cmap, vmin=vmin, vmax=vmax)\n",
    "        plt.xticks(np.array([]))\n",
    "        plt.yticks(np.array([]))\n",
    "    \n",
    "    plt.plot()\n",
    "\n",
    "\n",
    "sampled_images = image_sampler(theta_est, pi_est, 10)\n",
    "plot_images(sampled_images)"
   ]
  },
  {
   "cell_type": "code",
   "execution_count": 45,
   "metadata": {
    "id": "k8g40hvw6pE_"
   },
   "outputs": [
    {
     "data": {
      "image/png": "[encoded data removed]",
      "text/plain": [
       "<Figure size 640x480 with 1 Axes>"
      ]
     },
     "metadata": {},
     "output_type": "display_data"
    }
   ],
   "source": [
    "def probabilistic_imputer(theta, pi, original_images, is_observed):\n",
    "    \"\"\"\n",
    "    Inputs: parameters theta and pi, original_images, \n",
    "    and is_observed which has the same shape as original_images\n",
    "    Returns the new images where unobserved pixels are replaced by their \n",
    "    conditional probability\n",
    "    \"\"\"\n",
    "    \n",
    "    N_images,N_features = original_images.shape\n",
    "    imputed_images = original_images\n",
    "    C = theta.shape[0]\n",
    "\n",
    "    for image in range(N_images):\n",
    "      x_E = original_images[image][is_observed[image] == 1]\n",
    "      P_X_E = np.exp(np.log(theta[is_observed[image] == 1].T)@ x_E + \n",
    "                     np.log(1 - theta[is_observed[image] == 1].T)@ (1 - x_E))\n",
    "      denominator = np.sum(P_X_E * pi) \n",
    "      numerator = np.sum(P_X_E *  theta[is_observed[image] == 0] * pi, axis = 1)\n",
    "      p_x_j = numerator / denominator\n",
    "      imputed_images[image, is_observed[image] == 0] = p_x_j\n",
    "\n",
    "    return imputed_images\n",
    "\n",
    "\n",
    "num_features = train_images.shape[1]\n",
    "is_observed = np.random.binomial(1, p=0.3, size=(20, num_features))\n",
    "plot_images(train_images[:20] * is_observed)"
   ]
  },
  {
   "cell_type": "code",
   "execution_count": 46,
   "metadata": {
    "id": "RtOM8Ba4uVQj"
   },
   "outputs": [
    {
     "data": {
      "image/png": "[encoded data removed]",
      "text/plain": [
       "<Figure size 640x480 with 1 Axes>"
      ]
     },
     "metadata": {},
     "output_type": "display_data"
    }
   ],
   "source": [
    "imputed_images = probabilistic_imputer(theta_est, pi_est, train_images[:20], is_observed)\n",
    "plot_images(imputed_images)"
   ]
  },
  {
   "cell_type": "markdown",
   "metadata": {},
   "source": [
    "#  Logistic regression"
   ]
  },
  {
   "cell_type": "code",
   "execution_count": 47,
   "metadata": {},
   "outputs": [],
   "source": [
    "train_images_LG = df_train[:,selector]/ 255.0\n",
    "train_labels_LG = df_train[:,0]\n",
    "test_images_LG = df_test[:,selector]/ 255.0\n",
    "test_labels_LG = df_test[:,0]\n",
    "N_data_LG = train_images.shape[0]"
   ]
  },
  {
   "cell_type": "code",
   "execution_count": 48,
   "metadata": {},
   "outputs": [
    {
     "name": "stdout",
     "output_type": "stream",
     "text": [
      "(60000, 277)\n",
      "(10000, 277)\n"
     ]
    }
   ],
   "source": [
    "from sklearn.decomposition import PCA\n",
    "\n",
    "# Build a PCA model to retain 97% of the information\n",
    "pca = PCA(.97)\n",
    "\n",
    "# Fit the model to the data\n",
    "pca.fit(train_images_LG)\n",
    "\n",
    "# Transform the data to reduce dimensionality using PCA\n",
    "train_images_LG_PCA = pca.transform(train_images_LG)\n",
    "test_images_LG_PCA = pca.transform(test_images_LG)\n",
    "\n",
    "print(train_images_LG_PCA.shape)\n",
    "print(test_images_LG_PCA.shape)\n"
   ]
  },
  {
   "cell_type": "code",
   "execution_count": 49,
   "metadata": {
    "scrolled": false
   },
   "outputs": [
    {
     "name": "stdout",
     "output_type": "stream",
     "text": [
      "\n",
      "Testing  sag  solver with C =  0.0001\n",
      "\n",
      " Accuracy score for  sag  solver with C =  0.0001  is  0.7591\n",
      "\n",
      "Testing  sag  solver with C =  0.0005\n",
      "\n",
      " Accuracy score for  sag  solver with C =  0.0005  is  0.8082\n",
      "\n",
      "Testing  sag  solver with C =  0.001\n",
      "\n",
      " Accuracy score for  sag  solver with C =  0.001  is  0.8226\n",
      "\n",
      "Testing  sag  solver with C =  0.005\n",
      "\n",
      " Accuracy score for  sag  solver with C =  0.005  is  0.8469\n",
      "\n",
      "Testing  sag  solver with C =  0.01\n",
      "\n",
      " Accuracy score for  sag  solver with C =  0.01  is  0.8519\n",
      "\n",
      "Testing  sag  solver with C =  0.05\n",
      "\n",
      " Accuracy score for  sag  solver with C =  0.05  is  0.8547\n",
      "\n",
      "Testing  sag  solver with C =  0.1\n",
      "\n",
      " Accuracy score for  sag  solver with C =  0.1  is  0.8567\n",
      "\n",
      "Testing  saga  solver with C =  0.0001\n",
      "\n",
      " Accuracy score for  saga  solver with C =  0.0001  is  0.7592\n",
      "\n",
      "Testing  saga  solver with C =  0.0005\n",
      "\n",
      " Accuracy score for  saga  solver with C =  0.0005  is  0.8082\n",
      "\n",
      "Testing  saga  solver with C =  0.001\n",
      "\n",
      " Accuracy score for  saga  solver with C =  0.001  is  0.8226\n",
      "\n",
      "Testing  saga  solver with C =  0.005\n",
      "\n",
      " Accuracy score for  saga  solver with C =  0.005  is  0.8469\n",
      "\n",
      "Testing  saga  solver with C =  0.01\n",
      "\n",
      " Accuracy score for  saga  solver with C =  0.01  is  0.8519\n",
      "\n",
      "Testing  saga  solver with C =  0.05\n",
      "\n",
      " Accuracy score for  saga  solver with C =  0.05  is  0.8547\n",
      "\n",
      "Testing  saga  solver with C =  0.1\n",
      "\n",
      " Accuracy score for  saga  solver with C =  0.1  is  0.8567\n",
      "\n",
      "Testing  lbfgs  solver with C =  0.0001\n",
      "\n",
      " Accuracy score for  lbfgs  solver with C =  0.0001  is  0.7591\n",
      "\n",
      "Testing  lbfgs  solver with C =  0.0005\n",
      "\n",
      " Accuracy score for  lbfgs  solver with C =  0.0005  is  0.8083\n",
      "\n",
      "Testing  lbfgs  solver with C =  0.001\n",
      "\n",
      " Accuracy score for  lbfgs  solver with C =  0.001  is  0.8227\n",
      "\n",
      "Testing  lbfgs  solver with C =  0.005\n",
      "\n",
      " Accuracy score for  lbfgs  solver with C =  0.005  is  0.8469\n",
      "\n",
      "Testing  lbfgs  solver with C =  0.01\n",
      "\n",
      " Accuracy score for  lbfgs  solver with C =  0.01  is  0.8519\n",
      "\n",
      "Testing  lbfgs  solver with C =  0.05\n",
      "\n",
      " Accuracy score for  lbfgs  solver with C =  0.05  is  0.8547\n",
      "\n",
      "Testing  lbfgs  solver with C =  0.1\n",
      "\n",
      " Accuracy score for  lbfgs  solver with C =  0.1  is  0.8566\n",
      "\n",
      "Testing  newton-cg  solver with C =  0.0001\n",
      "\n",
      " Accuracy score for  newton-cg  solver with C =  0.0001  is  0.7591\n",
      "\n",
      "Testing  newton-cg  solver with C =  0.0005\n",
      "\n",
      " Accuracy score for  newton-cg  solver with C =  0.0005  is  0.8082\n",
      "\n",
      "Testing  newton-cg  solver with C =  0.001\n",
      "\n",
      " Accuracy score for  newton-cg  solver with C =  0.001  is  0.8226\n",
      "\n",
      "Testing  newton-cg  solver with C =  0.005\n",
      "\n",
      " Accuracy score for  newton-cg  solver with C =  0.005  is  0.8469\n",
      "\n",
      "Testing  newton-cg  solver with C =  0.01\n",
      "\n",
      " Accuracy score for  newton-cg  solver with C =  0.01  is  0.8519\n",
      "\n",
      "Testing  newton-cg  solver with C =  0.05\n",
      "\n",
      " Accuracy score for  newton-cg  solver with C =  0.05  is  0.8547\n",
      "\n",
      "Testing  newton-cg  solver with C =  0.1\n",
      "\n",
      " Accuracy score for  newton-cg  solver with C =  0.1  is  0.8567\n",
      "\n",
      "Optimisaion Finished. Best Score is  0.8567 \n",
      "Best parameters are  ['sag', 0.1]\n"
     ]
    }
   ],
   "source": [
    "from sklearn.linear_model import LogisticRegression\n",
    "best_accuracy = 0\n",
    "\n",
    "# Possible kernels\n",
    "solver_option = ['sag', 'saga', 'lbfgs', 'newton-cg']\n",
    "C_option = [0.01, 0.05, 0.1, 0.5, 1, 5, 10]\n",
    "\n",
    "for SOLVER in solver_option:\n",
    "    for C_op in C_option:\n",
    "        C = C_op/100\n",
    "\n",
    "        # Create the model\n",
    "        LG_model = LogisticRegression(C = C, max_iter = 1000, n_jobs = -1, solver = SOLVER)\n",
    "        LG_model.fit(train_images_LG_PCA, train_labels_LG)\n",
    "\n",
    "        # Predict labels for the test set\n",
    "        predicted_LG = LG_model.predict(test_images_LG_PCA)\n",
    "        AC_score = accuracy_score(test_labels_LG, predicted_LG)\n",
    "\n",
    "        print(\"\\nTesting \", SOLVER, \" solver with C = \", C)\n",
    "        print(\"\\n Accuracy score for \", SOLVER, \" solver with C = \", C, \" is \", AC_score)\n",
    "\n",
    "        if AC_score > best_accuracy:\n",
    "            best_accuracy = accuracy_score(test_labels_LG, predicted_LG)\n",
    "            best_params = [SOLVER, C]\n",
    "\n",
    "print(\"\\nOptimisaion Finished. Best Score is \", best_accuracy, \"\\nBest parameters are \", best_params)"
   ]
  },
  {
   "cell_type": "code",
   "execution_count": 50,
   "metadata": {},
   "outputs": [],
   "source": [
    "# Assign optimised parameters to the hyperparameters for the model\n",
    "S = best_params[0]\n",
    "C = best_params[1]"
   ]
  },
  {
   "cell_type": "code",
   "execution_count": 51,
   "metadata": {},
   "outputs": [
    {
     "name": "stdout",
     "output_type": "stream",
     "text": [
      "\n",
      " Accuracy score\n",
      " 0.8567\n",
      "\n",
      " F1 score\n",
      " 0.8556865676404998\n",
      "\n",
      " Confusion Matrix\n",
      " [[821   4  14  45   1   4  95   0  15   1]\n",
      " [  1 971   3  16   1   2   6   0   0   0]\n",
      " [ 13   2 765  11 111   0  87   0  11   0]\n",
      " [ 34  20  16 884  19   0  26   0   1   0]\n",
      " [  1   0  82  30 810   0  74   0   3   0]\n",
      " [  1   1   0   1   0 919   1  51   6  20]\n",
      " [153   4 106  31  92   1 597   0  16   0]\n",
      " [  0   0   0   0   0  39   0 911   1  49]\n",
      " [  6   0   7   4   4   7  18   4 948   2]\n",
      " [  0   0   0   0   0  17   0  42   0 941]]\n",
      "\n",
      " Classification Report\n",
      "               precision    recall  f1-score   support\n",
      "\n",
      "           0       0.80      0.82      0.81      1000\n",
      "           1       0.97      0.97      0.97      1000\n",
      "           2       0.77      0.77      0.77      1000\n",
      "           3       0.86      0.88      0.87      1000\n",
      "           4       0.78      0.81      0.79      1000\n",
      "           5       0.93      0.92      0.92      1000\n",
      "           6       0.66      0.60      0.63      1000\n",
      "           7       0.90      0.91      0.91      1000\n",
      "           8       0.95      0.95      0.95      1000\n",
      "           9       0.93      0.94      0.93      1000\n",
      "\n",
      "    accuracy                           0.86     10000\n",
      "   macro avg       0.86      0.86      0.86     10000\n",
      "weighted avg       0.86      0.86      0.86     10000\n",
      "\n"
     ]
    }
   ],
   "source": [
    "# Create the model with the optimised parameters\n",
    "model = LogisticRegression(C = C, max_iter = 10000, n_jobs = -1, solver = S)\n",
    "model.fit(train_images_LG_PCA, train_labels_LG)\n",
    "\n",
    "# Predict labels for the test set\n",
    "predicted_LG = model.predict(test_images_LG_PCA)\n",
    "\n",
    "# Evaluate the model\n",
    "confusion_matrix = confusion_matrix(test_labels_LG, predicted_LG)\n",
    "\n",
    "print(\"\\n Accuracy score\\n\", accuracy_score(test_labels_LG, predicted_LG))\n",
    "print(\"\\n F1 score\\n\", f1_score(test_labels_LG, predicted_LG,  average = 'macro'))\n",
    "print(\"\\n Confusion Matrix\\n\", confusion_matrix)\n",
    "print(\"\\n Classification Report\\n\", classification_report(test_labels_LG, predicted_LG))"
   ]
  },
  {
   "cell_type": "markdown",
   "metadata": {},
   "source": [
    "#  Support Vector Machine (SVM)"
   ]
  },
  {
   "cell_type": "code",
   "execution_count": 4,
   "metadata": {},
   "outputs": [],
   "source": [
    "train_images_SVM = df_train[:,selector]/255.0\n",
    "train_labels_SVM = df_train[:,0]\n",
    "test_images_SVM = df_test[:,selector]/ 255.0\n",
    "test_labels_SVM = df_test[:,0]\n",
    "N_data_SVM = train_images.shape[0]\n",
    "from sklearn.svm import SVC"
   ]
  },
  {
   "cell_type": "code",
   "execution_count": 5,
   "metadata": {},
   "outputs": [
    {
     "name": "stdout",
     "output_type": "stream",
     "text": [
      "(60000, 277)\n",
      "(10000, 277)\n"
     ]
    }
   ],
   "source": [
    "from sklearn.decomposition import PCA\n",
    "\n",
    "pca = PCA(.97)\n",
    "pca.fit(train_images_SVM)\n",
    "train_images_SVM_PCA = pca.transform(train_images_SVM)\n",
    "test_images_SVM_PCA = pca.transform(test_images_SVM)\n",
    "print(train_images_SVM_PCA.shape)\n",
    "print(test_images_SVM_PCA.shape)"
   ]
  },
  {
   "cell_type": "code",
   "execution_count": 10,
   "metadata": {},
   "outputs": [
    {
     "name": "stdout",
     "output_type": "stream",
     "text": [
      "\n",
      "Testing C =  0.01\n",
      "\n",
      " Accuracy score for LINEAR solver with C =  0.01  is  0.8647\n",
      "\n",
      "New best accuracy score:  0.8647\n",
      "\n",
      "Testing C =  0.05\n",
      "\n",
      " Accuracy score for LINEAR solver with C =  0.05  is  0.865\n",
      "\n",
      "New best accuracy score:  0.865\n",
      "\n",
      "Testing C =  0.1\n",
      "\n",
      " Accuracy score for LINEAR solver with C =  0.1  is  0.8641\n",
      "\n",
      "Testing C =  0.5\n",
      "\n",
      " Accuracy score for LINEAR solver with C =  0.5  is  0.861\n",
      "\n",
      "Testing C =  1\n",
      "\n",
      " Accuracy score for LINEAR solver with C =  1  is  0.8591\n",
      "\n",
      "\n",
      " ! Finished with Linear.\n",
      " Best parameters are:  ['linear', 0.05] \n",
      "Accuracy for them is  0.865\n"
     ]
    }
   ],
   "source": [
    "from sklearn.svm import SVC # \"Support vector classifier\"\n",
    "\n",
    "# Set best accuracy to a small value initially\n",
    "best_accuracy = - 1\n",
    "\n",
    "# possible kernels\n",
    "kernel_option = ['linear', 'rbf', 'poly']\n",
    "\n",
    "# Define the values each hyperparameter can take\n",
    "C_option = [0.01, 0.05, 0.1, 0.5, 1]\n",
    "degree_option = [3, 4, 5]\n",
    "\n",
    "for C_op in C_option:\n",
    "    print(\"\\nTesting C = \", C_op)\n",
    "\n",
    "    # Create a model\n",
    "    model = SVC(C = C_op, kernel = 'linear')\n",
    "    model.fit(train_images_SVM_PCA, train_labels_SVM)\n",
    "\n",
    "    # Predict labels for the test set\n",
    "    predicted_labels_SVM = model.predict(test_images_SVM_PCA)\n",
    "    print(\"\\n Accuracy score for LINEAR solver with C = \", C_op, \" is \",\n",
    "          accuracy_score(test_labels_SVM, predicted_labels_SVM))\n",
    "\n",
    "    if accuracy_score(test_labels_SVM, predicted_labels_SVM) > best_accuracy:\n",
    "        best_accuracy = accuracy_score(test_labels_SVM, predicted_labels_SVM)\n",
    "        best_params = ['linear', C_op]\n",
    "        print(\"\\nNew best accuracy score: \", accuracy_score(test_labels_SVM, predicted_labels_SVM))\n",
    "\n",
    "print(\"\\n\\n ! Finished with Linear.\\n Best parameters are: \", best_params, \"\\nAccuracy for them is \", best_accuracy)"
   ]
  },
  {
   "cell_type": "code",
   "execution_count": 11,
   "metadata": {},
   "outputs": [
    {
     "name": "stdout",
     "output_type": "stream",
     "text": [
      "\n",
      "Testing C =  0.01\n",
      "\n",
      " Accuracy score for RBF solver with C =  0.01  is  0.7949\n",
      "\n",
      "Testing C =  0.05\n",
      "\n",
      " Accuracy score for RBF solver with C =  0.05  is  0.8432\n",
      "\n",
      "Testing C =  0.1\n",
      "\n",
      " Accuracy score for RBF solver with C =  0.1  is  0.8633\n",
      "\n",
      "Testing C =  0.5\n",
      "\n",
      " Accuracy score for RBF solver with C =  0.5  is  0.8891\n",
      "\n",
      "New best accuracy score:  0.8891\n",
      "\n",
      "Testing C =  1\n",
      "\n",
      " Accuracy score for RBF solver with C =  1  is  0.8971\n",
      "\n",
      "New best accuracy score:  0.8971\n",
      "\n",
      "\n",
      " ! Finished with RBF.\n",
      " Best parameters are:  ['rbf', 1] \n",
      "Accuracy for them is  0.8971\n"
     ]
    }
   ],
   "source": [
    "for C_op in C_option:\n",
    "    print(\"\\nTesting C = \", C_op)\n",
    "\n",
    "    model = SVC(C = C_op, kernel = 'rbf')\n",
    "    model.fit(train_images_SVM_PCA, train_labels_SVM)\n",
    "\n",
    "    predicted_SVM = model.predict(test_images_SVM_PCA)\n",
    "    print(\"\\n Accuracy score for RBF solver with C = \", C_op, \" is \",\n",
    "          accuracy_score(test_labels_SVM, predicted_SVM))\n",
    "\n",
    "    if accuracy_score(test_labels_SVM, predicted_SVM) > best_accuracy:\n",
    "        best_accuracy = accuracy_score(test_labels_SVM, predicted_SVM)\n",
    "        best_params = ['rbf', C_op]\n",
    "        print(\"\\nNew best accuracy score: \", accuracy_score(test_labels_SVM, predicted_SVM))\n",
    "print(\"\\n\\n ! Finished with RBF.\\n Best parameters are: \", best_params, \"\\nAccuracy for them is \", best_accuracy)"
   ]
  },
  {
   "cell_type": "code",
   "execution_count": 13,
   "metadata": {},
   "outputs": [
    {
     "name": "stdout",
     "output_type": "stream",
     "text": [
      "\n",
      "Testing C =  0.01\n",
      "\n",
      "Testing Degree =  3\n",
      "\n",
      " Accuracy score for Poly solver with C =  0.01  Degree =  3  is  0.7235\n",
      "\n",
      "Testing Degree =  4\n",
      "\n",
      " Accuracy score for Poly solver with C =  0.01  Degree =  4  is  0.6589\n",
      "\n",
      "Testing Degree =  5\n",
      "\n",
      " Accuracy score for Poly solver with C =  0.01  Degree =  5  is  0.6283\n",
      "\n",
      "Kernel not recognised.\n",
      "\n",
      "Testing C =  0.05\n",
      "\n",
      "Testing Degree =  3\n",
      "\n",
      " Accuracy score for Poly solver with C =  0.05  Degree =  3  is  0.8152\n",
      "\n",
      "Testing Degree =  4\n",
      "\n",
      " Accuracy score for Poly solver with C =  0.05  Degree =  4  is  0.762\n",
      "\n",
      "Testing Degree =  5\n",
      "\n",
      " Accuracy score for Poly solver with C =  0.05  Degree =  5  is  0.7228\n",
      "\n",
      "Kernel not recognised.\n",
      "\n",
      "Testing C =  0.1\n",
      "\n",
      "Testing Degree =  3\n",
      "\n",
      " Accuracy score for Poly solver with C =  0.1  Degree =  3  is  0.8436\n",
      "\n",
      "Testing Degree =  4\n",
      "\n",
      " Accuracy score for Poly solver with C =  0.1  Degree =  4  is  0.8013\n",
      "\n",
      "Testing Degree =  5\n",
      "\n",
      " Accuracy score for Poly solver with C =  0.1  Degree =  5  is  0.76\n",
      "\n",
      "Kernel not recognised.\n",
      "\n",
      "Testing C =  0.5\n",
      "\n",
      "Testing Degree =  3\n",
      "\n",
      " Accuracy score for Poly solver with C =  0.5  Degree =  3  is  0.8813\n",
      "\n",
      "Testing Degree =  4\n",
      "\n",
      " Accuracy score for Poly solver with C =  0.5  Degree =  4  is  0.8607\n",
      "\n",
      "Testing Degree =  5\n",
      "\n",
      " Accuracy score for Poly solver with C =  0.5  Degree =  5  is  0.8251\n",
      "\n",
      "Kernel not recognised.\n",
      "\n",
      "Testing C =  1\n",
      "\n",
      "Testing Degree =  3\n",
      "\n",
      " Accuracy score for Poly solver with C =  1  Degree =  3  is  0.8923\n",
      "\n",
      "Testing Degree =  4\n",
      "\n",
      " Accuracy score for Poly solver with C =  1  Degree =  4  is  0.8749\n",
      "\n",
      "Testing Degree =  5\n",
      "\n",
      " Accuracy score for Poly solver with C =  1  Degree =  5  is  0.8479\n",
      "\n",
      "Kernel not recognised.\n",
      "\n",
      "Optimisaion Finished. Best Score is  0.8971 \n",
      "Best parameters are  ['rbf', 1]\n"
     ]
    }
   ],
   "source": [
    "for C_op in C_option:\n",
    "    print(\"\\nTesting C = \", C_op)\n",
    "    for D in degree_option:\n",
    "        print(\"\\nTesting Degree = \", D)\n",
    "\n",
    "        model = SVC(C = C_op, kernel = 'poly', degree = D)\n",
    "        model.fit(train_images_SVM_PCA, train_labels_SVM)\n",
    "\n",
    "        predicted_SVM = model.predict(test_images_SVM_PCA)\n",
    "        print(\"\\n Accuracy score for Poly solver with C = \", C_op, \" Degree = \", D, \" is \",\n",
    "              accuracy_score(test_labels_SVM, predicted_SVM))\n",
    "\n",
    "        if accuracy_score(test_labels_SVM, predicted_SVM) > best_accuracy:\n",
    "            best_accuracy = accuracy_score(test_labels_SVM, predicted_SVM)\n",
    "            best_params = ['poly', C_op, D]\n",
    "            print(\"\\nNew best accuracy score: \", accuracy_score(test_labels_SVM, predicted_SVM))\n",
    "\n",
    "print(\"\\nOptimisaion Finished. Best Score is \", best_accuracy, \"\\nBest parameters are \", best_params)"
   ]
  },
  {
   "cell_type": "code",
   "execution_count": 14,
   "metadata": {},
   "outputs": [],
   "source": [
    "K = best_params[0]\n",
    "C = best_params[1]\n",
    "if len(best_params) == 3:\n",
    "    DEGREE = best_params[2]"
   ]
  },
  {
   "cell_type": "code",
   "execution_count": 15,
   "metadata": {},
   "outputs": [
    {
     "name": "stdout",
     "output_type": "stream",
     "text": [
      "\n",
      " Accuracy score\n",
      " 0.8971\n",
      "\n",
      " F1 score\n",
      " 0.8965721739381616\n",
      "\n",
      " Confusion Matrix\n",
      " [[861   0  11  24   0   2  93   0   9   0]\n",
      " [  2 976   1  15   0   1   5   0   0   0]\n",
      " [ 10   0 827  14  79   0  68   0   2   0]\n",
      " [ 26   7   7 921  22   0  16   0   1   0]\n",
      " [  0   0  57  25 874   0  42   0   2   0]\n",
      " [  0   0   0   0   0 945   1  38   3  13]\n",
      " [149   0  75  27  56   0 685   0   8   0]\n",
      " [  0   0   0   0   0  18   0 950   0  32]\n",
      " [  4   0   6   3   1   2   7   2 975   0]\n",
      " [  0   0   0   0   0   9   0  34   0 957]]\n",
      "\n",
      " Classification Report\n",
      "               precision    recall  f1-score   support\n",
      "\n",
      "           0       0.82      0.86      0.84      1000\n",
      "           1       0.99      0.98      0.98      1000\n",
      "           2       0.84      0.83      0.83      1000\n",
      "           3       0.90      0.92      0.91      1000\n",
      "           4       0.85      0.87      0.86      1000\n",
      "           5       0.97      0.94      0.96      1000\n",
      "           6       0.75      0.69      0.71      1000\n",
      "           7       0.93      0.95      0.94      1000\n",
      "           8       0.97      0.97      0.97      1000\n",
      "           9       0.96      0.96      0.96      1000\n",
      "\n",
      "    accuracy                           0.90     10000\n",
      "   macro avg       0.90      0.90      0.90     10000\n",
      "weighted avg       0.90      0.90      0.90     10000\n",
      "\n"
     ]
    }
   ],
   "source": [
    "model = SVC(C = C, cache_size=1000, kernel=K, random_state = None)\n",
    "model.fit(train_images_SVM_PCA, train_labels_SVM)\n",
    "\n",
    "# Predict labels for the test set\n",
    "predicted_SVM = model.predict(test_images_SVM_PCA)\n",
    "\n",
    "# Evaluate the model\n",
    "confusion_matrix = confusion_matrix(test_labels_SVM, predicted_SVM)\n",
    "\n",
    "print(\"\\n Accuracy score\\n\", accuracy_score(test_labels_SVM, predicted_SVM))\n",
    "print(\"\\n F1 score\\n\", f1_score(test_labels_SVM, predicted_SVM,  average = 'macro'))\n",
    "print(\"\\n Confusion Matrix\\n\", confusion_matrix)\n",
    "print(\"\\n Classification Report\\n\", classification_report(test_labels_SVM, predicted_SVM))"
   ]
  },
  {
   "cell_type": "code",
   "execution_count": null,
   "outputs": [],
   "source": [],
   "metadata": {
    "collapsed": false
   }
  }
 ],
 "metadata": {
  "colab": {
   "provenance": []
  },
  "kernelspec": {
   "display_name": "Python 3 (ipykernel)",
   "language": "python",
   "name": "python3"
  },
  "language_info": {
   "codemirror_mode": {
    "name": "ipython",
    "version": 3
   },
   "file_extension": ".py",
   "mimetype": "text/x-python",
   "name": "python",
   "nbconvert_exporter": "python",
   "pygments_lexer": "ipython3",
   "version": "3.9.12"
  }
 },
 "nbformat": 4,
 "nbformat_minor": 1
}
